{
 "cells": [
  {
   "cell_type": "code",
   "execution_count": 1,
   "metadata": {},
   "outputs": [],
   "source": [
    "# Imports\n",
    "import numpy as np\n",
    "import pandas as pd\n",
    "import matplotlib.pyplot as plt\n",
    "import seaborn as sns\n",
    "import sys\n",
    "%matplotlib inline"
   ]
  },
  {
   "cell_type": "code",
   "execution_count": 2,
   "metadata": {},
   "outputs": [],
   "source": [
    "# My function imports\n",
    "sys.path.insert(0, '../models/')\n",
    "import data_functions as data_functions\n",
    "import plot_functions as plot_functions\n",
    "import train_functions as train_functions"
   ]
  },
  {
   "cell_type": "code",
   "execution_count": 3,
   "metadata": {},
   "outputs": [],
   "source": [
    "# Other bits\n",
    "sns.set_style('whitegrid')\n",
    "flatui = [\"#9b59b6\", \"#3498db\", \"#95a5a6\", \"#e74c3c\", \"#34495e\", \"#2ecc71\"]\n",
    "sns.set_palette(flatui)"
   ]
  },
  {
   "cell_type": "code",
   "execution_count": 4,
   "metadata": {},
   "outputs": [],
   "source": [
    "# Data\n",
    "d_train = pd.read_csv('../data/processed/d_train')\n",
    "d_test = pd.read_csv('../data/processed/d_test')\n",
    "d_validate = pd.read_csv('../data/processed/d_validate')\n",
    "d_train = d_train.set_index(['conversation', 'segment'])\n",
    "d_test = d_test.set_index(['conversation', 'segment'])\n",
    "d_validate = d_validate.set_index(['conversation', 'segment'])\n",
    "\n",
    "# First segment is someone introducing the clip so remove\n",
    "d_train = d_train.query('segment != 1')\n",
    "dataframes = {'train': d_train, 'test': d_test, 'validate': d_validate}"
   ]
  },
  {
   "cell_type": "code",
   "execution_count": 5,
   "metadata": {},
   "outputs": [],
   "source": [
    "# # Radu data\n",
    "# radu_dataframes = {'train': [], 'test': [], 'validate': []}\n",
    "\n",
    "# for name, dataframe in dataframes.items():\n",
    "    \n",
    "#     radu_dataframes[name] = dataframe.copy()\n",
    "#     radu_dataframes[name]['g/d'] = None\n",
    "#     radu_dataframes[name]['segment_ratio'] = None\n",
    "#     radu_dataframes[name]['gap_change'] = None\n",
    "#     conversations = dataframe.index.get_level_values(0).unique()\n",
    "\n",
    "#     for conversation in conversations:\n",
    "#         # Get conversation and shifted conversation dataframes\n",
    "#         conversation_df = dataframe.loc[conversation]\n",
    "#         conversation_df_shift = conversation_df.shift(1)\n",
    "\n",
    "#         # Create useful features\n",
    "#         gap_duration = conversation_df_shift['gap'] / conversation_df['duration']\n",
    "#         segment_ratio = conversation_df_shift['duration'] / conversation_df['duration']\n",
    "#         gap_change = conversation_df_shift['gap'] - conversation_df['gap']\n",
    "\n",
    "#         # Update\n",
    "#         radu_dataframes[name].loc[conversation, 'g/d'].update(gap_duration)\n",
    "#         radu_dataframes[name].loc[conversation, 'segment_ratio'].update(segment_ratio)\n",
    "#         radu_dataframes[name].loc[conversation, 'gap_change'].update(gap_change)\n",
    "\n",
    "#     radu_dataframes[name].dropna(inplace=True)\n",
    "#     radu_dataframes[name] = radu_dataframes[name][['n_words', 'duration', 'gap', 'type']]"
   ]
  },
  {
   "cell_type": "code",
   "execution_count": 6,
   "metadata": {},
   "outputs": [],
   "source": [
    "#radu_dataframes['validate'].head()"
   ]
  },
  {
   "cell_type": "markdown",
   "metadata": {},
   "source": [
    "## Data editing to use Radus features"
   ]
  },
  {
   "cell_type": "markdown",
   "metadata": {},
   "source": [
    "# Basic prediction model"
   ]
  },
  {
   "cell_type": "markdown",
   "metadata": {},
   "source": [
    "## Machine learning"
   ]
  },
  {
   "cell_type": "markdown",
   "metadata": {},
   "source": [
    "We first make the features amenable to machine learning. To do this we take the mean of the three features which are:\n",
    "- Number of words per segment of speech\n",
    "- Duration of that segment of speech\n",
    "- Gap between that person talking"
   ]
  },
  {
   "cell_type": "code",
   "execution_count": 7,
   "metadata": {},
   "outputs": [],
   "source": [
    "mean_df = data_functions.generate_mean_dfs(dataframes)\n",
    "validate_df = mean_df.pop('validate')"
   ]
  },
  {
   "cell_type": "code",
   "execution_count": 8,
   "metadata": {},
   "outputs": [],
   "source": [
    "X, y, X_train, y_train, X_test, y_test = data_functions.generate_test_training(mean_df)\n",
    "X_full = X"
   ]
  },
  {
   "cell_type": "code",
   "execution_count": 9,
   "metadata": {},
   "outputs": [],
   "source": [
    "X_validate = validate_df.drop(['type'], axis=1)\n",
    "y_validate = list(map(int, validate_df['type'].values))"
   ]
  },
  {
   "cell_type": "markdown",
   "metadata": {},
   "source": [
    "#### Feature correlation matrix"
   ]
  },
  {
   "cell_type": "code",
   "execution_count": 10,
   "metadata": {},
   "outputs": [
    {
     "data": {
      "image/png": "[encoded data removed]",
      "text/plain": [
       "<matplotlib.figure.Figure at 0x1120af4e0>"
      ]
     },
     "metadata": {},
     "output_type": "display_data"
    }
   ],
   "source": [
    "corr = X_full.corr()\n",
    "\n",
    "f, ax = plt.subplots(figsize=(11, 9))\n",
    "\n",
    "cmap = sns.diverging_palette(220, 10, as_cmap=True)\n",
    "\n",
    "mask = np.zeros_like(corr, dtype=np.bool)\n",
    "mask[np.triu_indices_from(mask)] = True\n",
    "\n",
    "sns.heatmap(corr, cmap=cmap, mask=mask, vmax=.3, center=0,\n",
    "            square=True, linewidths=.5, cbar_kws={\"shrink\": .5});"
   ]
  },
  {
   "cell_type": "markdown",
   "metadata": {},
   "source": [
    "#### Normalise features"
   ]
  },
  {
   "cell_type": "code",
   "execution_count": 11,
   "metadata": {},
   "outputs": [],
   "source": [
    "from sklearn.preprocessing import StandardScaler\n",
    "\n",
    "scaler = StandardScaler()\n",
    "X_train = scaler.fit_transform(X_train)\n",
    "X, X_test, X_validate = scaler.transform(X), scaler.transform(X_test), scaler.transform(X_validate)"
   ]
  },
  {
   "cell_type": "markdown",
   "metadata": {},
   "source": [
    "Get the full sets, training and test sets for this new form of the data. Then train the classifiers."
   ]
  },
  {
   "cell_type": "code",
   "execution_count": null,
   "metadata": {},
   "outputs": [
    {
     "name": "stdout",
     "output_type": "stream",
     "text": [
      "Training accuracies \n",
      "----------\n",
      "Logistic Regression Training accuracy: 94.00%\n",
      "KNN Training accuracy: 89.95%\n",
      "SVM Training accuracy: 92.03%\n",
      "Decision Tree Training accuracy: 87.99%\n",
      "Random Forest Training accuracy: 90.07%\n",
      "ADA Boost Training accuracy: 86.03%\n",
      "GBC Training accuracy: 89.95%\n",
      "\n",
      "------------------------------------------------------------\n",
      "\n",
      "Test accuracies \n",
      "----------\n",
      "Logistic Regression test accuracy: 81.76%\n",
      "KNN test accuracy: 85.46%\n",
      "SVM test accuracy: 82.13%\n",
      "Decision Tree test accuracy: 75.46%\n",
      "Random Forest test accuracy: 85.46%\n",
      "ADA Boost test accuracy: 75.46%\n",
      "GBC test accuracy: 75.46%\n"
     ]
    }
   ],
   "source": [
    "classifiers = train_functions.train_classifiers(X_train, y_train, X_test, y_test)"
   ]
  },
  {
   "cell_type": "markdown",
   "metadata": {},
   "source": [
    "### Gridsearch"
   ]
  },
  {
   "cell_type": "code",
   "execution_count": null,
   "metadata": {},
   "outputs": [
    {
     "name": "stdout",
     "output_type": "stream",
     "text": [
      "Logistic Regression best parameters {'C': 0.1, 'penalty': 'l2'}:\n",
      "KNN best parameters {'algorithm': 'auto', 'n_neighbors': 3}:\n",
      "SVM best parameters {'C': 0.1, 'gamma': 'auto', 'kernel': 'linear'}:\n",
      "Decision Tree best parameters {'criterion': 'gini', 'max_depth': 1, 'min_samples_leaf': 1}:\n"
     ]
    }
   ],
   "source": [
    "gs_classifiers = train_functions.perform_gridsearch(classifiers, X_train, y_train)"
   ]
  },
  {
   "cell_type": "code",
   "execution_count": null,
   "metadata": {},
   "outputs": [],
   "source": [
    "train_functions.calculate_cv(gs_classifiers, X_train, y_train)"
   ]
  },
  {
   "cell_type": "code",
   "execution_count": null,
   "metadata": {},
   "outputs": [],
   "source": [
    "train_functions.calculate_cv(gs_classifiers, X_test, y_test)"
   ]
  },
  {
   "cell_type": "markdown",
   "metadata": {},
   "source": [
    "#### Plot learning curve"
   ]
  },
  {
   "cell_type": "markdown",
   "metadata": {},
   "source": [
    "Logistic regression appears to be the best. Here we plot the learning curve."
   ]
  },
  {
   "cell_type": "code",
   "execution_count": null,
   "metadata": {},
   "outputs": [],
   "source": [
    "plot_functions.learning(gs_classifiers, X, y)\n",
    "#plt.savefig('../reports/learning_curves', dpi=300)"
   ]
  },
  {
   "cell_type": "markdown",
   "metadata": {},
   "source": [
    "#### ROC curve"
   ]
  },
  {
   "cell_type": "code",
   "execution_count": null,
   "metadata": {},
   "outputs": [],
   "source": [
    "plot_functions.roc_ollie(gs_classifiers, X, y)"
   ]
  },
  {
   "cell_type": "markdown",
   "metadata": {},
   "source": [
    "## Validation"
   ]
  },
  {
   "cell_type": "code",
   "execution_count": null,
   "metadata": {},
   "outputs": [],
   "source": [
    "print('Validation set accuracy \\n' + '*'*30 + '\\n')\n",
    "\n",
    "for name, clf in gs_classifiers.items():\n",
    "    score = clf.score(X_validate, y_validate)\n",
    "    print('{}: {:.1f}%'.format(name, score*100))"
   ]
  },
  {
   "cell_type": "code",
   "execution_count": null,
   "metadata": {},
   "outputs": [],
   "source": [
    "plot_functions.roc_ollie(gs_classifiers, X_validate, y_validate)\n",
    "plt.savefig('../reports/ROC', dpi=300)"
   ]
  },
  {
   "cell_type": "markdown",
   "metadata": {},
   "source": [
    "### Feature importances"
   ]
  },
  {
   "cell_type": "code",
   "execution_count": null,
   "metadata": {},
   "outputs": [],
   "source": [
    "features = {'Normal': ['Number of words', 'Duration', 'Gap'],\n",
    "            'Radu': ['Number of words', 'g/d', 'Segment Ratio', 'Gap Change']}\n",
    "\n",
    "# Check feature sizes \n",
    "forest = gs_classifiers['Random Forest']\n",
    "importances = forest.feature_importances_\n",
    "std = np.std([tree.feature_importances_ for tree in forest.estimators_],\n",
    "             axis=0)\n",
    "indices = np.argsort(importances)[::-1]\n",
    "\n",
    "# Print the feature ranking\n",
    "print(\"Feature ranking:\")\n",
    "\n",
    "for f in range(X.shape[1]):\n",
    "    print(\"{}: {:.3f}\".format(features['Normal'][f], importances[indices[f]]))"
   ]
  },
  {
   "cell_type": "markdown",
   "metadata": {},
   "source": [
    "<br>\n",
    "<br>\n",
    "# Are our values correct?"
   ]
  },
  {
   "cell_type": "code",
   "execution_count": null,
   "metadata": {},
   "outputs": [],
   "source": [
    "cbt_session = pd.read_pickle('../data/processed/real/cbt_session')\n",
    "child_interview = pd.read_pickle('../data/processed/real/child_interview')\n",
    "real_mean_dfs = {'CBT Session': cbt_session,\n",
    "            'Child interview': child_interview}\n",
    "\n",
    "for name, df in real_mean_dfs.items():\n",
    "    real_mean_dfs[name] = pd.DataFrame(data=df.describe().loc['mean']).T"
   ]
  },
  {
   "cell_type": "code",
   "execution_count": null,
   "metadata": {},
   "outputs": [],
   "source": [
    "for data_name, df in real_mean_dfs.items():\n",
    "    \n",
    "    print('For {} \\n'.format(data_name) + '*'*30)\n",
    "\n",
    "    for clf_name, clf in classifiers.items():\n",
    "        prediction = ('GOOD' if clf.predict(df) == 1 else 'BAD')\n",
    "        print('{} predicts: {}.'.format(clf_name, prediction))\n",
    "        \n",
    "    print('\\n')\n",
    "    "
   ]
  },
  {
   "cell_type": "markdown",
   "metadata": {},
   "source": [
    "<br>\n",
    "<br>\n",
    "# Time dependence"
   ]
  },
  {
   "cell_type": "markdown",
   "metadata": {},
   "source": [
    "This is todo. The idea here is to use the model derived from above then at each timestep find the probability score for that segment, this give us a p and a 1-p that we can apply Bayes with. We then repeat for the next timestep which will give us a running odds score and an indication as to how the converation is going."
   ]
  },
  {
   "cell_type": "code",
   "execution_count": null,
   "metadata": {},
   "outputs": [],
   "source": [
    "# For d_train conversation = 1\n",
    "# Change good bad to binary \n",
    "for name, df in dataframes.items():\n",
    "    df['type'][df['type'] == 'good'] = 1\n",
    "    df['type'][df['type'] == 'bad'] = 0\n",
    "    \n",
    "conversation = d_train.loc[1].drop(['type'], axis=1)\n",
    "\n",
    "for segment in conversation.reset_index()['segment'].unique():\n",
    "    segment = conversation.loc[segment]\n",
    "    pred = gs_classifiers['Random Forest'].predict_proba([segment])\n"
   ]
  },
  {
   "cell_type": "code",
   "execution_count": null,
   "metadata": {},
   "outputs": [],
   "source": []
  },
  {
   "cell_type": "code",
   "execution_count": null,
   "metadata": {},
   "outputs": [],
   "source": []
  }
 ],
 "metadata": {
  "kernelspec": {
   "display_name": "Python 3",
   "language": "python",
   "name": "python3"
  },
  "language_info": {
   "codemirror_mode": {
    "name": "ipython",
    "version": 3
   },
   "file_extension": ".py",
   "mimetype": "text/x-python",
   "name": "python",
   "nbconvert_exporter": "python",
   "pygments_lexer": "ipython3",
   "version": "3.6.4"
  }
 },
 "nbformat": 4,
 "nbformat_minor": 2
}
